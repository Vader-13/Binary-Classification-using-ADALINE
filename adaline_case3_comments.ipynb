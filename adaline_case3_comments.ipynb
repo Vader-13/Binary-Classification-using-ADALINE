{
 "cells": [
  {
   "cell_type": "code",
   "execution_count": 1,
   "metadata": {},
   "outputs": [],
   "source": [
    "import numpy as np\n",
    "import pandas as pd\n",
    "import matplotlib.pyplot as plt\n",
    "\n",
    "#Reading in training data\n",
    "data=pd.read_csv(\"dataF.csv\")\n",
    "\n",
    "#Declaring global variables\n",
    "input_mat=data.values\n",
    "num_features=input_mat.shape[1]-1\n",
    "training_size=input_mat.shape[0]\n",
    "\n",
    "\n",
    "#ADALINE weight update rule for CaseA(Individual update)\n",
    "def weight_update(weight_vec,err_val,input_vec,lr):\n",
    "    wlen=len(weight_vec)\n",
    "    change=2.0*lr*err_val\n",
    "    for i in range(wlen):\n",
    "        weight_vec[i]+=change*input_vec[i]\n",
    "    return weight_vec \n",
    "\n",
    "\n",
    "#ADALINE weight update rule for CaseB(Batch update)\n",
    "def weight_change(err_val,input_vec,lr):\n",
    "    wlen=len(input_vec)\n",
    "    weight_vec = np.zeros(num_features)\n",
    "    change=2.0*lr*err_val\n",
    "    for i in range(wlen):\n",
    "        weight_vec[i]+=change*input_vec[i]\n",
    "    return weight_vec "
   ]
  },
  {
   "cell_type": "code",
   "execution_count": 2,
   "metadata": {},
   "outputs": [
    {
     "data": {
      "image/png": "[encoded data removed]",
      "text/plain": [
       "<Figure size 432x288 with 1 Axes>"
      ]
     },
     "metadata": {
      "needs_background": "light"
     },
     "output_type": "display_data"
    }
   ],
   "source": [
    "def main():\n",
    "    weight_vec=np.random.random_sample(num_features)\n",
    "    learning_rates=np.arange(0.04,0.05,0.01)\n",
    "\n",
    "    limit=0.0001   #Threshold of error after which learning is stopped. \n",
    "    X = []\n",
    "    Y = []\n",
    "    \n",
    "    #The following code tries out various learning rates to find the best one.\n",
    "    for j in range(len(learning_rates)):\n",
    "        \n",
    "        weight_vec=np.random.random_sample(num_features)\n",
    "        lr=learning_rates[j]\n",
    "        \n",
    "        iters =0\n",
    "        counter=0\n",
    "        wt_vec=[]\n",
    "        \n",
    "        \n",
    "        #This loop breaks when counter=training_size, ie when for all the patterns, the error is less than the \n",
    "        #specified limit. One run of this loop involves an iteration of batch updating, followed by an iteration of \n",
    "        #individual updating.\n",
    "        while(counter!=training_size):\n",
    "            iters+=1\n",
    "            \n",
    "            #This part is responsible for batch updating(CaseB)\n",
    "            cumul_error=0\n",
    "            \n",
    "            #The change in weight or delta for a particular iteration is summed up over all input data \n",
    "            #patterns and added to the weight vector at the end of the iteration.\n",
    "            change_in_weight = np.zeros(num_features)\n",
    "            \n",
    "            for i in range(training_size):\n",
    "                input_vec=input_mat[i][0:num_features]\n",
    "                true=input_mat[i][num_features]\n",
    "                pred=0\n",
    "                for i in range(num_features):\n",
    "                    pred+=(input_vec[i]*weight_vec[i])\n",
    "                err_val=(true-pred)\n",
    "                change_in_weight += weight_change(err_val,input_vec,lr)\n",
    "                cumul_error+=err_val\n",
    "\n",
    "            weight_vec+=change_in_weight\n",
    "             \n",
    "            #Values for plotting the graph\n",
    "            X.append(iters*10)\n",
    "            Y.append(cumul_error)\n",
    "            \n",
    "            \n",
    "            #This part is responsible for individual updating(CaseA)\n",
    "            counter=0\n",
    "        \n",
    "            for i in range(training_size):\n",
    "                input_vec=input_mat[i][0:num_features]\n",
    "                trueVal=input_mat[i][num_features]\n",
    "                \n",
    "                pred=0\n",
    "                \n",
    "                for k in range(num_features):\n",
    "                    pred+=(input_vec[k]*weight_vec[k])\n",
    "\n",
    "                err_val=trueVal-pred#Error is calclulated simply as difference of true value and predicted value.\n",
    "                if(np.absolute(err_val)<limit):\n",
    "                    counter+=1\n",
    "                \n",
    "                weight_vec=weight_update(weight_vec,err_val,input_vec,lr)\n",
    "                Y.append(err_val)\n",
    "                X.append(iters*10 + i+1)\n",
    "                \n",
    "            \n",
    "            iters+=1\n",
    "\n",
    "    #Plotting the graph\n",
    "    X = np.asarray(X)\n",
    "    Y = np.asarray(Y)\n",
    "    Y = np.square(Y)\n",
    "    plt.plot(X[5:300],Y[5:300])\n",
    "    plt.xlabel('No. of iterations')\n",
    "    plt.ylabel('Squared error')\n",
    "    \n",
    "    return weight_vec\n",
    "       \n",
    "weight_vec=main()\n"
   ]
  },
  {
   "cell_type": "code",
   "execution_count": 3,
   "metadata": {},
   "outputs": [
    {
     "name": "stdout",
     "output_type": "stream",
     "text": [
      "T\n",
      "J\n",
      "T\n",
      "J\n",
      "T\n",
      "J\n",
      "T\n",
      "J\n"
     ]
    }
   ],
   "source": [
    "#Testing the model on some testing data:\n",
    "for i in range(training_size):\n",
    "    input_vec=input_mat[i][0:num_features]\n",
    "    pred=0\n",
    "    for i in range(num_features):\n",
    "            pred+=(input_vec[i]*weight_vec[i])  #Using the weight vector learned from training to\n",
    "                                                #generate predictions\n",
    "    if(pred<0.5):\n",
    "        print('T')\n",
    "    else:\n",
    "        print('J')   "
   ]
  }
 ],
 "metadata": {
  "kernelspec": {
   "display_name": "Python 3",
   "language": "python",
   "name": "python3"
  },
  "language_info": {
   "codemirror_mode": {
    "name": "ipython",
    "version": 3
   },
   "file_extension": ".py",
   "mimetype": "text/x-python",
   "name": "python",
   "nbconvert_exporter": "python",
   "pygments_lexer": "ipython3",
   "version": "3.6.7"
  }
 },
 "nbformat": 4,
 "nbformat_minor": 2
}
