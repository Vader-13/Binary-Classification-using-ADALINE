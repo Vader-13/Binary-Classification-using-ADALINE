{
 "cells": [
  {
   "cell_type": "code",
   "execution_count": 1,
   "metadata": {},
   "outputs": [],
   "source": [
    "import numpy as np                  #numpy library for scientific computing tasks\n",
    "import pandas as pd                 #pandas library for data analysis tasks\n",
    "import matplotlib.pyplot as plt     #matplotlib library for plotting and visualizations\n",
    "\n",
    "\n",
    "#Reading in training data\n",
    "data=pd.read_csv(\"dataF.csv\")\n",
    "input_mat=data.values\n",
    "\n",
    "#Declaring global variables\n",
    "length=16\n",
    "patterns=input_mat.shape[0]\n",
    "error=[]"
   ]
  },
  {
   "cell_type": "code",
   "execution_count": 2,
   "metadata": {},
   "outputs": [],
   "source": [
    "#The ADALINE weight update rule\n",
    "def weight_update(weight_vec,err_val,input_vec,lr):\n",
    "    wlen=len(weight_vec)\n",
    "    change=2.0*lr*err_val\n",
    "    for i in range(wlen):\n",
    "        weight_vec[i]+=change*input_vec[i]\n",
    "    return weight_vec"
   ]
  },
  {
   "cell_type": "code",
   "execution_count": 3,
   "metadata": {},
   "outputs": [
    {
     "data": {
      "image/png": "[encoded data removed]",
      "text/plain": [
       "<Figure size 432x288 with 1 Axes>"
      ]
     },
     "metadata": {
      "needs_background": "light"
     },
     "output_type": "display_data"
    }
   ],
   "source": [
    "def main():\n",
    "    weight_vec=np.random.random_sample(16)         #initializing a random weight vector\n",
    "    choices=np.arange(0.01,0.1,0.01)               #initializing choices for tuning the learning rate\n",
    "    no_iter=[]\n",
    "   \n",
    "    limit=0.01  #Threshold of error after which learning is stopped.\n",
    "    \n",
    "    #The following code tries out various learning rates to find the best one.\n",
    "    for j in range(len(choices)):\n",
    "        weight_vec=np.random.random_sample(16)\n",
    "        lr=choices[j]\n",
    "        flag=True\n",
    "        iters =0\n",
    "        bcounter=0\n",
    "        while(flag):\n",
    "            iters+=1\n",
    "            counter=0\n",
    "            error=[]\n",
    "            for i in range(patterns):\n",
    "                input_vec=input_mat[i][0:16]              #extracting input vector from input matrix\n",
    "                true=input_mat[i][16]                     #extracting true value of input vector\n",
    "                pred=0\n",
    "                for i in range(length):\n",
    "                    pred+=(input_vec[i]*weight_vec[i])\n",
    "                err_val=true-pred                         #computing error of the prediction\n",
    "                if(np.absolute(err_val)<limit):           #comparing error against the threshold\n",
    "                    counter+=1\n",
    "                error.append(err_val)\n",
    "                weight_vec=weight_update(weight_vec,err_val,input_vec,lr)  #updating the weight vector suitably\n",
    "            \n",
    "            #This loop breaks when counter=no.of patterns, i.e. when for all the patterns, the error is less than \n",
    "            #the specified limit. One run of this loop involves calculating the error for each pattern followed \n",
    "            #by individual updating of the weights\n",
    "            \n",
    "            if(counter==patterns):\n",
    "                flag = False\n",
    "        no_iter.append(iters)\n",
    "        \n",
    "    #Plotting the graph    \n",
    "    plt.plot(np.arange(0.01,0.1,0.01),no_iter) \n",
    "    plt.xlabel('Learning Rate')\n",
    "    plt.ylabel('No. of iterations')\n",
    "         \n",
    "    return weight_vec          #returns the final updated weight vector\n",
    "        \n",
    "weight_vec=main()"
   ]
  },
  {
   "cell_type": "code",
   "execution_count": 4,
   "metadata": {},
   "outputs": [
    {
     "name": "stdout",
     "output_type": "stream",
     "text": [
      "8\n",
      "T\n",
      "J\n",
      "T\n",
      "J\n",
      "T\n",
      "J\n",
      "T\n",
      "J\n"
     ]
    }
   ],
   "source": [
    "#Testing the model on some testing data:\n",
    "preds=[]\n",
    "for i in range(patterns):\n",
    "    input_vec=input_mat[i][0:16]\n",
    "    pred=0\n",
    "    for i in range(length):\n",
    "            pred+=(input_vec[i]*weight_vec[i])          #using the weight vector learned from training\n",
    "    preds.append(pred)                                  #to generate predictions\n",
    "print(len(preds))\n",
    "for i in range(len(preds)):                             #predicts \"T\" or \"J\"\n",
    "    if(preds[i]<0.5):\n",
    "        print('T')\n",
    "    else:\n",
    "        print('J')"
   ]
  }
 ],
 "metadata": {
  "kernelspec": {
   "display_name": "Python 3",
   "language": "python",
   "name": "python3"
  },
  "language_info": {
   "codemirror_mode": {
    "name": "ipython",
    "version": 3
   },
   "file_extension": ".py",
   "mimetype": "text/x-python",
   "name": "python",
   "nbconvert_exporter": "python",
   "pygments_lexer": "ipython3",
   "version": "3.6.7"
  }
 },
 "nbformat": 4,
 "nbformat_minor": 2
}
