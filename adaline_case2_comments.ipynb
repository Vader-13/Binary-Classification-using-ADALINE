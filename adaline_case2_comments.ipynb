{
 "cells": [
  {
   "cell_type": "code",
   "execution_count": 1,
   "metadata": {},
   "outputs": [],
   "source": [
    "import numpy as np\n",
    "import pandas as pd\n",
    "import matplotlib.pyplot as plt\n",
    "\n",
    "#Reading in training data\n",
    "data=pd.read_csv(\"dataF.csv\")\n",
    "\n",
    "#Declaring global variables\n",
    "input_mat=data.values\n",
    "num_features=input_mat.shape[1]-1\n",
    "training_size=input_mat.shape[0]"
   ]
  },
  {
   "cell_type": "code",
   "execution_count": 2,
   "metadata": {},
   "outputs": [],
   "source": [
    "#The ADALINE weight update rule\n",
    "def weight_change(err_val,input_vec,lr):\n",
    "    wlen=len(input_vec)\n",
    "    weight_vec = np.zeros(wlen)\n",
    "    change=2.0*lr*err_val\n",
    "    \n",
    "    for i in range(wlen):\n",
    "        weight_vec[i]+=change*input_vec[i]\n",
    "    return weight_vec "
   ]
  },
  {
   "cell_type": "code",
   "execution_count": 3,
   "metadata": {},
   "outputs": [
    {
     "data": {
      "image/png": "[encoded data removed]",
      "text/plain": [
       "<Figure size 432x288 with 1 Axes>"
      ]
     },
     "metadata": {
      "needs_background": "light"
     },
     "output_type": "display_data"
    }
   ],
   "source": [
    "def main():\n",
    "    weight_vec=np.random.random_sample(num_features)\n",
    "    learning_rates=np.arange(0.01,0.045,0.005)\n",
    "    no_iter=[]\n",
    "    limit=0.0001\n",
    "    \n",
    "    #The following code tries out various learning rates to find the best one.\n",
    "    for j in range(len(learning_rates)):\n",
    "        weight_vec=np.random.random_sample(num_features)\n",
    "        lr=learning_rates[j]\n",
    "        iters=0\n",
    "        counter=0\n",
    "        \n",
    "        #Iterations of learning are stopped when the cumulative/batch error is less than a specified \n",
    "        #limit for more than 3 continuous iterations.\n",
    "        while(counter<3):\n",
    "            \n",
    "            iters+=1\n",
    "            cumul_error=0\n",
    "            \n",
    "            #The change in weight or delta for a particular iteration is summed up over all input data \n",
    "            #patterns and added to the weight vector at the end of the iteration.\n",
    "            change_in_weight = np.zeros(num_features)\n",
    "            \n",
    "            \n",
    "            for i in range(training_size):\n",
    "                input_vec=input_mat[i][0:num_features]\n",
    "                trueVal=input_mat[i][num_features]\n",
    "                pred=0\n",
    "                \n",
    "                for k in range(num_features):\n",
    "                    pred+=(input_vec[k]*weight_vec[k])\n",
    "                err_val=(trueVal-pred)\n",
    "                \n",
    "                #The change in weight vector is accumulated, but is added to the weight vector only \n",
    "                #at the end of the iteration\n",
    "                change_in_weight += weight_change(err_val,input_vec,lr)\n",
    "                cumul_error+=err_val\n",
    "            \n",
    "            weight_vec += change_in_weight  #The weight vector is changed after an iteration of training\n",
    "                                            #is complete.\n",
    "            \n",
    "            #Updating counter for checking if convergence has been reached to stop the learning.\n",
    "            if(np.absolute(cumul_error)<limit): \n",
    "                counter+=1  \n",
    "            else:\n",
    "                counter=0\n",
    "                \n",
    "        no_iter.append(iters)\n",
    "        \n",
    "    #Plotting the graph    \n",
    "    plt.plot(np.arange(0.01,0.045,0.005),no_iter) \n",
    "    plt.xlabel('Learning Rate')\n",
    "    plt.ylabel('No. of iterations')\n",
    "    \n",
    "    \n",
    "    return weight_vec\n",
    "       \n",
    "weight_vec=main()"
   ]
  },
  {
   "cell_type": "code",
   "execution_count": 4,
   "metadata": {},
   "outputs": [
    {
     "name": "stdout",
     "output_type": "stream",
     "text": [
      "T\n",
      "J\n",
      "T\n",
      "J\n",
      "T\n",
      "J\n",
      "T\n",
      "J\n"
     ]
    }
   ],
   "source": [
    "#Testing the model on some testing data:\n",
    "for i in range(training_size):\n",
    "    input_vec=input_mat[i][0:num_features]\n",
    "    pred=0\n",
    "    for i in range(num_features):\n",
    "            pred+=(input_vec[i]*weight_vec[i])  #Using the weight vector learned from training to\n",
    "                                                #generate predictions\n",
    "    if(pred<0.5):\n",
    "        print('T')\n",
    "    else:\n",
    "        print('J')\n",
    "\n",
    "    "
   ]
  }
 ],
 "metadata": {
  "kernelspec": {
   "display_name": "Python 3",
   "language": "python",
   "name": "python3"
  },
  "language_info": {
   "codemirror_mode": {
    "name": "ipython",
    "version": 3
   },
   "file_extension": ".py",
   "mimetype": "text/x-python",
   "name": "python",
   "nbconvert_exporter": "python",
   "pygments_lexer": "ipython3",
   "version": "3.6.7"
  }
 },
 "nbformat": 4,
 "nbformat_minor": 2
}
